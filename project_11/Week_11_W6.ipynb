{
  "nbformat": 4,
  "nbformat_minor": 0,
  "metadata": {
    "colab": {
      "name": "Week_11_W6",
      "version": "0.3.2",
      "provenance": [],
      "collapsed_sections": [
        "YbMtmf1Yu2sh"
      ],
      "include_colab_link": true
    },
    "kernelspec": {
      "name": "python3",
      "display_name": "Python 3"
    },
    "accelerator": "GPU"
  },
  "cells": [
    {
      "cell_type": "markdown",
      "metadata": {
        "id": "view-in-github",
        "colab_type": "text"
      },
      "source": [
        "<a href=\"https://colab.research.google.com/github/muksmuks/computer_vision/blob/master/project_11/Week_11_W6.ipynb\" target=\"_parent\"><img src=\"https://colab.research.google.com/assets/colab-badge.svg\" alt=\"Open In Colab\"/></a>"
      ]
    },
    {
      "cell_type": "code",
      "metadata": {
        "id": "KkwXnw9OfHZl",
        "colab_type": "code",
        "outputId": "6aca4ae0-610b-40f3-f626-b76299dd57e8",
        "colab": {
          "base_uri": "https://localhost:8080/",
          "height": 34
        }
      },
      "source": [
        "from keras import backend as K\n",
        "import time\n",
        "import matplotlib.pyplot as plt\n",
        "import numpy as np\n",
        "% matplotlib inline\n",
        "np.random.seed(2017) \n",
        "from keras import regularizers\n",
        "from keras.models import Sequential\n",
        "from keras.layers.convolutional import Convolution2D, MaxPooling2D,AveragePooling2D\n",
        "from keras.layers import Activation, Flatten, Dense, Dropout\n",
        "from keras.layers.normalization import BatchNormalization\n",
        "from keras.utils import np_utils\n",
        "from keras.preprocessing.image import ImageDataGenerator\n"
      ],
      "execution_count": 0,
      "outputs": [
        {
          "output_type": "stream",
          "text": [
            "Using TensorFlow backend.\n"
          ],
          "name": "stderr"
        }
      ]
    },
    {
      "cell_type": "markdown",
      "metadata": {
        "id": "jHHbJJlXRNcl",
        "colab_type": "text"
      },
      "source": [
        "**Demonstration of below learnings**\n",
        "\n",
        "Use the base code provided and perform the below learnings\n",
        "1. CutOut as image augmentation strategy\n",
        "2. Use LR Finder to find the best starting learning rate\n",
        "3. Use SDG with Momentum\n",
        "\n",
        "\n",
        "\n",
        "**Other Instructions**\n",
        "1. Train for 100 Epochs. \n",
        "2. Keep Verbose = 0 (no logs)\n",
        "3. Print the top accuracy\n",
        "4. Show Training and Test Accuracy curves"
      ]
    },
    {
      "cell_type": "code",
      "metadata": {
        "id": "NHpnoCHZfO8g",
        "colab_type": "code",
        "outputId": "a10251ac-fe11-4ed3-f69c-fdec599d054c",
        "colab": {
          "base_uri": "https://localhost:8080/",
          "height": 51
        }
      },
      "source": [
        "from keras.datasets import cifar10\n",
        "(train_features, train_labels), (test_features, test_labels) = cifar10.load_data()\n",
        "num_train, img_rows, img_cols,img_channels =  train_features.shape\n",
        "num_test, _, _, _ =  test_features.shape\n",
        "num_classes = len(np.unique(train_labels))"
      ],
      "execution_count": 0,
      "outputs": [
        {
          "output_type": "stream",
          "text": [
            "Downloading data from https://www.cs.toronto.edu/~kriz/cifar-10-python.tar.gz\n",
            "170500096/170498071 [==============================] - 6s 0us/step\n"
          ],
          "name": "stdout"
        }
      ]
    },
    {
      "cell_type": "code",
      "metadata": {
        "id": "2R9KHV8A19cw",
        "colab_type": "code",
        "outputId": "14da74df-1fd9-454c-dab2-ad4625d6681b",
        "colab": {
          "base_uri": "https://localhost:8080/",
          "height": 68
        }
      },
      "source": [
        "print (num_classes)\n",
        "print (num_train)\n",
        "print (train_features.shape)"
      ],
      "execution_count": 0,
      "outputs": [
        {
          "output_type": "stream",
          "text": [
            "10\n",
            "50000\n",
            "(50000, 32, 32, 3)\n"
          ],
          "name": "stdout"
        }
      ]
    },
    {
      "cell_type": "code",
      "metadata": {
        "id": "14HyBUXdfS6G",
        "colab_type": "code",
        "outputId": "9b691b63-7bb2-4903-97d3-9838c1485ac7",
        "colab": {
          "base_uri": "https://localhost:8080/",
          "height": 213
        }
      },
      "source": [
        "class_names = ['airplane','automobile','bird','cat','deer',\n",
        "               'dog','frog','horse','ship','truck']\n",
        "fig = plt.figure(figsize=(8,3))\n",
        "for i in range(num_classes):\n",
        "    ax = fig.add_subplot(2, 5, 1 + i, xticks=[], yticks=[])\n",
        "    idx = np.where(train_labels[:]==i)[0]\n",
        "    features_idx = train_features[idx,::]\n",
        "    img_num = np.random.randint(features_idx.shape[0])\n",
        "    im = features_idx[img_num]\n",
        "    ax.set_title(class_names[i])\n",
        "    plt.imshow(im)\n",
        "plt.show()"
      ],
      "execution_count": 0,
      "outputs": [
        {
          "output_type": "display_data",
          "data": {
            "image/png": "[encoded data removed]",
            "text/plain": [
              "<Figure size 576x216 with 10 Axes>"
            ]
          },
          "metadata": {
            "tags": []
          }
        }
      ]
    },
    {
      "cell_type": "code",
      "metadata": {
        "id": "bmfsk76-fadV",
        "colab_type": "code",
        "colab": {}
      },
      "source": [
        "def plot_model_history(model_history):\n",
        "    fig, axs = plt.subplots(1,2,figsize=(15,5))\n",
        "    # summarize history for accuracy\n",
        "    axs[0].plot(range(1,len(model_history.history['acc'])+1),model_history.history['acc'])\n",
        "    axs[0].plot(range(1,len(model_history.history['val_acc'])+1),model_history.history['val_acc'])\n",
        "    axs[0].set_title('Model Accuracy')\n",
        "    axs[0].set_ylabel('Accuracy')\n",
        "    axs[0].set_xlabel('Epoch')\n",
        "    axs[0].set_xticks(np.arange(1,len(model_history.history['acc'])+1),len(model_history.history['acc'])/10)\n",
        "    axs[0].legend(['train', 'val'], loc='best')\n",
        "    # summarize history for loss\n",
        "    axs[1].plot(range(1,len(model_history.history['loss'])+1),model_history.history['loss'])\n",
        "    axs[1].plot(range(1,len(model_history.history['val_loss'])+1),model_history.history['val_loss'])\n",
        "    axs[1].set_title('Model Loss')\n",
        "    axs[1].set_ylabel('Loss')\n",
        "    axs[1].set_xlabel('Epoch')\n",
        "    axs[1].set_xticks(np.arange(1,len(model_history.history['loss'])+1),len(model_history.history['loss'])/10)\n",
        "    axs[1].legend(['train', 'val'], loc='best')\n",
        "    plt.show()"
      ],
      "execution_count": 0,
      "outputs": []
    },
    {
      "cell_type": "code",
      "metadata": {
        "id": "YJMT4rjgfdZz",
        "colab_type": "code",
        "colab": {}
      },
      "source": [
        "def accuracy(test_x, test_y, model):\n",
        "    result = model.predict(test_x)\n",
        "    predicted_class = np.argmax(result, axis=1)\n",
        "    true_class = np.argmax(test_y, axis=1)\n",
        "    num_correct = np.sum(predicted_class == true_class) \n",
        "    accuracy = float(num_correct)/result.shape[0]\n",
        "    return (accuracy * 100)"
      ],
      "execution_count": 0,
      "outputs": []
    },
    {
      "cell_type": "code",
      "metadata": {
        "id": "T5c5nDvxm6zR",
        "colab_type": "code",
        "colab": {}
      },
      "source": [
        "train_features = train_features.astype('float32')/255\n",
        "test_features = test_features.astype('float32')/255\n",
        "# convert class labels to binary class labels\n",
        "train_labels = np_utils.to_categorical(train_labels, num_classes)\n",
        "test_labels = np_utils.to_categorical(test_labels, num_classes)"
      ],
      "execution_count": 0,
      "outputs": []
    },
    {
      "cell_type": "code",
      "metadata": {
        "id": "9upyHvwj3JhG",
        "colab_type": "code",
        "outputId": "25f1b221-d227-4040-9e9c-2b7e3677affa",
        "colab": {
          "base_uri": "https://localhost:8080/",
          "height": 136
        }
      },
      "source": [
        "train_labels"
      ],
      "execution_count": 0,
      "outputs": [
        {
          "output_type": "execute_result",
          "data": {
            "text/plain": [
              "array([[0., 0., 0., ..., 0., 0., 0.],\n",
              "       [0., 0., 0., ..., 0., 0., 1.],\n",
              "       [0., 0., 0., ..., 0., 0., 1.],\n",
              "       ...,\n",
              "       [0., 0., 0., ..., 0., 0., 1.],\n",
              "       [0., 1., 0., ..., 0., 0., 0.],\n",
              "       [0., 1., 0., ..., 0., 0., 0.]], dtype=float32)"
            ]
          },
          "metadata": {
            "tags": []
          },
          "execution_count": 8
        }
      ]
    },
    {
      "cell_type": "markdown",
      "metadata": {
        "id": "YbMtmf1Yu2sh",
        "colab_type": "text"
      },
      "source": [
        "##Model Definition"
      ]
    },
    {
      "cell_type": "code",
      "metadata": {
        "id": "84KpWnnEuv9H",
        "colab_type": "code",
        "colab": {}
      },
      "source": [
        "def custom_model():\n",
        "  # Define the model\n",
        "  model = Sequential()\n",
        "  model.add(Convolution2D(32, 3, 3, border_mode='same',kernel_regularizer=regularizers.l2(0.0001), input_shape=(32, 32, 3)))\n",
        "  model.add(Activation('relu'))\n",
        "  model.add(BatchNormalization())\n",
        "\n",
        "  model.add(Convolution2D(64, 3, 3,kernel_regularizer=regularizers.l2(0.0001),border_mode='same'))\n",
        "  model.add(Activation('relu'))\n",
        "  model.add(BatchNormalization())\n",
        "\n",
        "  model.add(MaxPooling2D(pool_size=(2, 2)))\n",
        "  model.add(Dropout(0.2))\n",
        "\n",
        "  model.add(Convolution2D(32, 1, 1))\n",
        "\n",
        "\n",
        "  model.add(Convolution2D(64, 3, 3,kernel_regularizer=regularizers.l2(0.0001),border_mode='same'))\n",
        "  model.add(Activation('relu'))\n",
        "  model.add(BatchNormalization())\n",
        "\n",
        "  model.add(Convolution2D(128, 3, 3,kernel_regularizer=regularizers.l2(0.0001),border_mode='same'))\n",
        "  model.add(Activation('relu'))\n",
        "  model.add(BatchNormalization())\n",
        "\n",
        "  model.add(MaxPooling2D(pool_size=(2, 2)))\n",
        "  model.add(Dropout(0.3))\n",
        "\n",
        "  model.add(Convolution2D(32, 1, 1))\n",
        "\n",
        "\n",
        "  model.add(Convolution2D(128, 3, 3,kernel_regularizer=regularizers.l2(0.0001), border_mode='same'))\n",
        "  model.add(Activation('relu'))\n",
        "  model.add(BatchNormalization())\n",
        "\n",
        "  model.add(Convolution2D(256, 3, 3,kernel_regularizer=regularizers.l2(0.0001), border_mode='same'))\n",
        "  model.add(Activation('relu'))\n",
        "  model.add(BatchNormalization())\n",
        "\n",
        "  model.add(MaxPooling2D(pool_size=(2, 2)))\n",
        "  model.add(Dropout(0.5))\n",
        "\n",
        "  model.add(Convolution2D(10, 1, 1))\n",
        "\n",
        "  model.add(AveragePooling2D(pool_size = (4,4)))\n",
        "  model.add(Flatten())\n",
        "\n",
        "\n",
        "  model.add(Activation('softmax'))\n",
        "\n",
        "  # Compile the model\n",
        "  model.compile(optimizer='adam', loss='categorical_crossentropy', metrics=['accuracy'])\n",
        "  return model\n"
      ],
      "execution_count": 0,
      "outputs": []
    },
    {
      "cell_type": "markdown",
      "metadata": {
        "id": "NC4iqjBYQ9OZ",
        "colab_type": "text"
      },
      "source": [
        "##Base Model training and test provided in the code"
      ]
    },
    {
      "cell_type": "code",
      "metadata": {
        "id": "e5U2c0unqgdP",
        "colab_type": "code",
        "outputId": "848185a6-e302-4873-cfd6-32a9a7f0019e",
        "colab": {
          "base_uri": "https://localhost:8080/",
          "height": 68
        }
      },
      "source": [
        "# load dataset\n",
        "(trainX, trainy), (testX, testy) = cifar10.load_data()\n",
        "\n",
        "\n",
        "print('Statistics train=%.3f (%.3f), test=%.3f (%.3f)' % (trainX.mean(), trainX.std(), testX.mean(), testX.std()))\n",
        "\n",
        "# create generator that centers pixel values\n",
        "datagen = ImageDataGenerator(featurewise_center=True, featurewise_std_normalization=True)\n",
        "\n",
        "# calculate the mean on the training dataset\n",
        "datagen.fit(trainX)\n",
        "#print('Data Generator mean=%.3f, std=%.3f' % (datagen.mean, datagen.std))\n",
        "\n",
        "# demonstrate effect on a single batch of samples\n",
        "iterator = datagen.flow(trainX, trainy, batch_size=128)\n",
        "\n",
        "# get a batch\n",
        "batchX, batchy = iterator.next()\n",
        "\n",
        "# pixel stats in the batch\n",
        "print(batchX.shape, batchX.mean(), batchX.std())\n",
        "\n",
        "# demonstrate effect on entire training dataset\n",
        "iterator = datagen.flow(trainX, trainy, batch_size=len(trainX), shuffle=False)\n",
        "\n",
        "# get a batch\n",
        "batchX, batchy = iterator.next()\n",
        "\n",
        "# pixel stats in the batch\n",
        "print(batchX.shape, batchX.mean(), batchX.std())"
      ],
      "execution_count": 0,
      "outputs": [
        {
          "output_type": "stream",
          "text": [
            "Statistics train=120.708 (64.150), test=121.529 (64.061)\n",
            "(128, 32, 32, 3) 0.0071613677 1.0019897\n",
            "(50000, 32, 32, 3) -1.6605131e-06 1.0000001\n"
          ],
          "name": "stdout"
        }
      ]
    },
    {
      "cell_type": "code",
      "metadata": {
        "id": "D-eJt3EDq1g5",
        "colab_type": "code",
        "colab": {}
      },
      "source": [
        "iterator1 = datagen.flow(testX, testy, batch_size=len(testX), shuffle=False)\n",
        "batch_testX, batch_testy = iterator1.next()\n",
        "\n",
        "X_train = batchX\n",
        "X_test = batch_testX\n",
        "\n",
        "y_train=batchy\n",
        "y_test=batch_testy\n",
        "                        "
      ],
      "execution_count": 0,
      "outputs": []
    },
    {
      "cell_type": "code",
      "metadata": {
        "id": "av2re-bNrBnY",
        "colab_type": "code",
        "colab": {}
      },
      "source": [
        "# Convert 1-dimensional class arrays to 10-dimensional class matrices\n",
        "Y_train = np_utils.to_categorical(y_train, 10)\n",
        "Y_test = np_utils.to_categorical(y_test, 10)"
      ],
      "execution_count": 0,
      "outputs": []
    },
    {
      "cell_type": "code",
      "metadata": {
        "id": "AUhWT47O7qlt",
        "colab_type": "code",
        "outputId": "473bddfa-338a-496d-b5b9-df97040ba3e4",
        "colab": {
          "base_uri": "https://localhost:8080/",
          "height": 1000
        }
      },
      "source": [
        "model1 = custom_model()\n",
        "\n",
        "model1.summary()"
      ],
      "execution_count": 0,
      "outputs": [
        {
          "output_type": "stream",
          "text": [
            "WARNING: Logging before flag parsing goes to stderr.\n",
            "W0730 16:35:16.683892 139667691902848 deprecation_wrapper.py:119] From /usr/local/lib/python3.6/dist-packages/keras/backend/tensorflow_backend.py:74: The name tf.get_default_graph is deprecated. Please use tf.compat.v1.get_default_graph instead.\n",
            "\n",
            "/usr/local/lib/python3.6/dist-packages/ipykernel_launcher.py:4: UserWarning: Update your `Conv2D` call to the Keras 2 API: `Conv2D(32, (3, 3), kernel_regularizer=<keras.reg..., input_shape=(32, 32, 3..., padding=\"same\")`\n",
            "  after removing the cwd from sys.path.\n",
            "W0730 16:35:16.723382 139667691902848 deprecation_wrapper.py:119] From /usr/local/lib/python3.6/dist-packages/keras/backend/tensorflow_backend.py:517: The name tf.placeholder is deprecated. Please use tf.compat.v1.placeholder instead.\n",
            "\n",
            "W0730 16:35:16.731404 139667691902848 deprecation_wrapper.py:119] From /usr/local/lib/python3.6/dist-packages/keras/backend/tensorflow_backend.py:4138: The name tf.random_uniform is deprecated. Please use tf.random.uniform instead.\n",
            "\n",
            "W0730 16:35:16.779066 139667691902848 deprecation_wrapper.py:119] From /usr/local/lib/python3.6/dist-packages/keras/backend/tensorflow_backend.py:174: The name tf.get_default_session is deprecated. Please use tf.compat.v1.get_default_session instead.\n",
            "\n",
            "W0730 16:35:16.779985 139667691902848 deprecation_wrapper.py:119] From /usr/local/lib/python3.6/dist-packages/keras/backend/tensorflow_backend.py:181: The name tf.ConfigProto is deprecated. Please use tf.compat.v1.ConfigProto instead.\n",
            "\n",
            "W0730 16:35:19.563697 139667691902848 deprecation_wrapper.py:119] From /usr/local/lib/python3.6/dist-packages/keras/backend/tensorflow_backend.py:1834: The name tf.nn.fused_batch_norm is deprecated. Please use tf.compat.v1.nn.fused_batch_norm instead.\n",
            "\n",
            "/usr/local/lib/python3.6/dist-packages/ipykernel_launcher.py:8: UserWarning: Update your `Conv2D` call to the Keras 2 API: `Conv2D(64, (3, 3), kernel_regularizer=<keras.reg..., padding=\"same\")`\n",
            "  \n",
            "W0730 16:35:19.827432 139667691902848 deprecation_wrapper.py:119] From /usr/local/lib/python3.6/dist-packages/keras/backend/tensorflow_backend.py:3976: The name tf.nn.max_pool is deprecated. Please use tf.nn.max_pool2d instead.\n",
            "\n",
            "W0730 16:35:19.834466 139667691902848 deprecation.py:506] From /usr/local/lib/python3.6/dist-packages/keras/backend/tensorflow_backend.py:3445: calling dropout (from tensorflow.python.ops.nn_ops) with keep_prob is deprecated and will be removed in a future version.\n",
            "Instructions for updating:\n",
            "Please use `rate` instead of `keep_prob`. Rate should be set to `rate = 1 - keep_prob`.\n",
            "/usr/local/lib/python3.6/dist-packages/ipykernel_launcher.py:15: UserWarning: Update your `Conv2D` call to the Keras 2 API: `Conv2D(32, (1, 1))`\n",
            "  from ipykernel import kernelapp as app\n",
            "/usr/local/lib/python3.6/dist-packages/ipykernel_launcher.py:18: UserWarning: Update your `Conv2D` call to the Keras 2 API: `Conv2D(64, (3, 3), kernel_regularizer=<keras.reg..., padding=\"same\")`\n",
            "/usr/local/lib/python3.6/dist-packages/ipykernel_launcher.py:22: UserWarning: Update your `Conv2D` call to the Keras 2 API: `Conv2D(128, (3, 3), kernel_regularizer=<keras.reg..., padding=\"same\")`\n",
            "/usr/local/lib/python3.6/dist-packages/ipykernel_launcher.py:29: UserWarning: Update your `Conv2D` call to the Keras 2 API: `Conv2D(32, (1, 1))`\n",
            "/usr/local/lib/python3.6/dist-packages/ipykernel_launcher.py:32: UserWarning: Update your `Conv2D` call to the Keras 2 API: `Conv2D(128, (3, 3), kernel_regularizer=<keras.reg..., padding=\"same\")`\n",
            "/usr/local/lib/python3.6/dist-packages/ipykernel_launcher.py:36: UserWarning: Update your `Conv2D` call to the Keras 2 API: `Conv2D(256, (3, 3), kernel_regularizer=<keras.reg..., padding=\"same\")`\n",
            "/usr/local/lib/python3.6/dist-packages/ipykernel_launcher.py:43: UserWarning: Update your `Conv2D` call to the Keras 2 API: `Conv2D(10, (1, 1))`\n",
            "W0730 16:35:20.230359 139667691902848 deprecation_wrapper.py:119] From /usr/local/lib/python3.6/dist-packages/keras/backend/tensorflow_backend.py:3980: The name tf.nn.avg_pool is deprecated. Please use tf.nn.avg_pool2d instead.\n",
            "\n",
            "W0730 16:35:20.240533 139667691902848 deprecation_wrapper.py:119] From /usr/local/lib/python3.6/dist-packages/keras/optimizers.py:790: The name tf.train.Optimizer is deprecated. Please use tf.compat.v1.train.Optimizer instead.\n",
            "\n"
          ],
          "name": "stderr"
        },
        {
          "output_type": "stream",
          "text": [
            "_________________________________________________________________\n",
            "Layer (type)                 Output Shape              Param #   \n",
            "=================================================================\n",
            "conv2d_1 (Conv2D)            (None, 32, 32, 32)        896       \n",
            "_________________________________________________________________\n",
            "activation_1 (Activation)    (None, 32, 32, 32)        0         \n",
            "_________________________________________________________________\n",
            "batch_normalization_1 (Batch (None, 32, 32, 32)        128       \n",
            "_________________________________________________________________\n",
            "conv2d_2 (Conv2D)            (None, 32, 32, 64)        18496     \n",
            "_________________________________________________________________\n",
            "activation_2 (Activation)    (None, 32, 32, 64)        0         \n",
            "_________________________________________________________________\n",
            "batch_normalization_2 (Batch (None, 32, 32, 64)        256       \n",
            "_________________________________________________________________\n",
            "max_pooling2d_1 (MaxPooling2 (None, 16, 16, 64)        0         \n",
            "_________________________________________________________________\n",
            "dropout_1 (Dropout)          (None, 16, 16, 64)        0         \n",
            "_________________________________________________________________\n",
            "conv2d_3 (Conv2D)            (None, 16, 16, 32)        2080      \n",
            "_________________________________________________________________\n",
            "conv2d_4 (Conv2D)            (None, 16, 16, 64)        18496     \n",
            "_________________________________________________________________\n",
            "activation_3 (Activation)    (None, 16, 16, 64)        0         \n",
            "_________________________________________________________________\n",
            "batch_normalization_3 (Batch (None, 16, 16, 64)        256       \n",
            "_________________________________________________________________\n",
            "conv2d_5 (Conv2D)            (None, 16, 16, 128)       73856     \n",
            "_________________________________________________________________\n",
            "activation_4 (Activation)    (None, 16, 16, 128)       0         \n",
            "_________________________________________________________________\n",
            "batch_normalization_4 (Batch (None, 16, 16, 128)       512       \n",
            "_________________________________________________________________\n",
            "max_pooling2d_2 (MaxPooling2 (None, 8, 8, 128)         0         \n",
            "_________________________________________________________________\n",
            "dropout_2 (Dropout)          (None, 8, 8, 128)         0         \n",
            "_________________________________________________________________\n",
            "conv2d_6 (Conv2D)            (None, 8, 8, 32)          4128      \n",
            "_________________________________________________________________\n",
            "conv2d_7 (Conv2D)            (None, 8, 8, 128)         36992     \n",
            "_________________________________________________________________\n",
            "activation_5 (Activation)    (None, 8, 8, 128)         0         \n",
            "_________________________________________________________________\n",
            "batch_normalization_5 (Batch (None, 8, 8, 128)         512       \n",
            "_________________________________________________________________\n",
            "conv2d_8 (Conv2D)            (None, 8, 8, 256)         295168    \n",
            "_________________________________________________________________\n",
            "activation_6 (Activation)    (None, 8, 8, 256)         0         \n",
            "_________________________________________________________________\n",
            "batch_normalization_6 (Batch (None, 8, 8, 256)         1024      \n",
            "_________________________________________________________________\n",
            "max_pooling2d_3 (MaxPooling2 (None, 4, 4, 256)         0         \n",
            "_________________________________________________________________\n",
            "dropout_3 (Dropout)          (None, 4, 4, 256)         0         \n",
            "_________________________________________________________________\n",
            "conv2d_9 (Conv2D)            (None, 4, 4, 10)          2570      \n",
            "_________________________________________________________________\n",
            "average_pooling2d_1 (Average (None, 1, 1, 10)          0         \n",
            "_________________________________________________________________\n",
            "flatten_1 (Flatten)          (None, 10)                0         \n",
            "_________________________________________________________________\n",
            "activation_7 (Activation)    (None, 10)                0         \n",
            "=================================================================\n",
            "Total params: 455,370\n",
            "Trainable params: 454,026\n",
            "Non-trainable params: 1,344\n",
            "_________________________________________________________________\n"
          ],
          "name": "stdout"
        }
      ]
    },
    {
      "cell_type": "markdown",
      "metadata": {
        "id": "cGAT_BcY-da2",
        "colab_type": "text"
      },
      "source": [
        "### Total params: 455,370"
      ]
    },
    {
      "cell_type": "code",
      "metadata": {
        "id": "4gPfvAi-8nwk",
        "colab_type": "code",
        "outputId": "cd3bcf5f-4ee6-4ee8-dfbe-2d52695dc210",
        "colab": {
          "base_uri": "https://localhost:8080/",
          "height": 1000
        }
      },
      "source": [
        "from keras.preprocessing.image import ImageDataGenerator\n",
        "\n",
        "datagen = ImageDataGenerator(zoom_range=0.0, \n",
        "                             horizontal_flip=False)\n",
        "\n",
        "\n",
        "# train the model\n",
        "start = time.time()\n",
        "# Train the model\n",
        "model_info = model1.fit_generator(datagen.flow(X_train, Y_train, batch_size = 128),\n",
        "                                 samples_per_epoch = train_features.shape[0], nb_epoch = 50, \n",
        "                                 validation_data = (X_test, Y_test), verbose=1)\n",
        "end = time.time()\n",
        "print (\"Model took %0.2f seconds to train\"%(end - start))\n",
        "# plot model history\n",
        "plot_model_history(model_info)\n",
        "# compute test accuracy\n",
        "print (\"Accuracy on test data is: %0.2f\"%accuracy(X_test, Y_test, model1))"
      ],
      "execution_count": 0,
      "outputs": [
        {
          "output_type": "stream",
          "text": [
            "/usr/local/lib/python3.6/dist-packages/ipykernel_launcher.py:12: UserWarning: The semantics of the Keras 2 argument `steps_per_epoch` is not the same as the Keras 1 argument `samples_per_epoch`. `steps_per_epoch` is the number of batches to draw from the generator at each epoch. Basically steps_per_epoch = samples_per_epoch/batch_size. Similarly `nb_val_samples`->`validation_steps` and `val_samples`->`steps` arguments have changed. Update your method calls accordingly.\n",
            "  if sys.path[0] == '':\n",
            "/usr/local/lib/python3.6/dist-packages/ipykernel_launcher.py:12: UserWarning: Update your `fit_generator` call to the Keras 2 API: `fit_generator(<keras_pre..., validation_data=(array([[[..., verbose=1, steps_per_epoch=390, epochs=50)`\n",
            "  if sys.path[0] == '':\n",
            "W0730 16:35:24.479390 139667691902848 deprecation.py:323] From /usr/local/lib/python3.6/dist-packages/tensorflow/python/ops/math_grad.py:1250: add_dispatch_support.<locals>.wrapper (from tensorflow.python.ops.array_ops) is deprecated and will be removed in a future version.\n",
            "Instructions for updating:\n",
            "Use tf.where in 2.0, which has the same broadcast rule as np.where\n"
          ],
          "name": "stderr"
        },
        {
          "output_type": "stream",
          "text": [
            "Epoch 1/50\n",
            "390/390 [==============================] - 17s 43ms/step - loss: 1.3839 - acc: 0.5225 - val_loss: 1.0481 - val_acc: 0.6441\n",
            "Epoch 2/50\n",
            "390/390 [==============================] - 13s 32ms/step - loss: 0.9815 - acc: 0.6721 - val_loss: 0.9248 - val_acc: 0.6896\n",
            "Epoch 3/50\n",
            "390/390 [==============================] - 12s 32ms/step - loss: 0.8172 - acc: 0.7322 - val_loss: 0.7775 - val_acc: 0.7473\n",
            "Epoch 4/50\n",
            "390/390 [==============================] - 13s 32ms/step - loss: 0.7185 - acc: 0.7704 - val_loss: 0.7634 - val_acc: 0.7583\n",
            "Epoch 5/50\n",
            "390/390 [==============================] - 13s 32ms/step - loss: 0.6564 - acc: 0.7946 - val_loss: 0.6916 - val_acc: 0.7873\n",
            "Epoch 6/50\n",
            "390/390 [==============================] - 13s 32ms/step - loss: 0.6038 - acc: 0.8147 - val_loss: 0.7328 - val_acc: 0.7789\n",
            "Epoch 7/50\n",
            "390/390 [==============================] - 13s 32ms/step - loss: 0.5669 - acc: 0.8306 - val_loss: 0.6233 - val_acc: 0.8169\n",
            "Epoch 8/50\n",
            "390/390 [==============================] - 13s 32ms/step - loss: 0.5432 - acc: 0.8424 - val_loss: 0.6248 - val_acc: 0.8165\n",
            "Epoch 9/50\n",
            "390/390 [==============================] - 13s 32ms/step - loss: 0.5247 - acc: 0.8500 - val_loss: 0.6335 - val_acc: 0.8227\n",
            "Epoch 10/50\n",
            "390/390 [==============================] - 13s 32ms/step - loss: 0.4971 - acc: 0.8616 - val_loss: 0.6892 - val_acc: 0.8080\n",
            "Epoch 11/50\n",
            "390/390 [==============================] - 12s 32ms/step - loss: 0.4834 - acc: 0.8675 - val_loss: 0.6504 - val_acc: 0.8209\n",
            "Epoch 12/50\n",
            "390/390 [==============================] - 13s 32ms/step - loss: 0.4690 - acc: 0.8762 - val_loss: 0.6409 - val_acc: 0.8242\n",
            "Epoch 13/50\n",
            "390/390 [==============================] - 12s 32ms/step - loss: 0.4600 - acc: 0.8801 - val_loss: 0.6295 - val_acc: 0.8352\n",
            "Epoch 14/50\n",
            "390/390 [==============================] - 12s 32ms/step - loss: 0.4493 - acc: 0.8871 - val_loss: 0.6536 - val_acc: 0.8303\n",
            "Epoch 15/50\n",
            "390/390 [==============================] - 12s 32ms/step - loss: 0.4423 - acc: 0.8897 - val_loss: 0.6106 - val_acc: 0.8452\n",
            "Epoch 16/50\n",
            "390/390 [==============================] - 12s 32ms/step - loss: 0.4442 - acc: 0.8924 - val_loss: 0.6911 - val_acc: 0.8238\n",
            "Epoch 17/50\n",
            "390/390 [==============================] - 12s 32ms/step - loss: 0.4263 - acc: 0.8992 - val_loss: 0.6270 - val_acc: 0.8448\n",
            "Epoch 18/50\n",
            "390/390 [==============================] - 12s 32ms/step - loss: 0.4246 - acc: 0.9020 - val_loss: 0.6408 - val_acc: 0.8403\n",
            "Epoch 19/50\n",
            "390/390 [==============================] - 13s 32ms/step - loss: 0.4235 - acc: 0.9025 - val_loss: 0.6418 - val_acc: 0.8426\n",
            "Epoch 20/50\n",
            "390/390 [==============================] - 12s 32ms/step - loss: 0.4136 - acc: 0.9086 - val_loss: 0.6879 - val_acc: 0.8401\n",
            "Epoch 21/50\n",
            "390/390 [==============================] - 12s 32ms/step - loss: 0.4084 - acc: 0.9116 - val_loss: 0.6567 - val_acc: 0.8472\n",
            "Epoch 22/50\n",
            "390/390 [==============================] - 12s 32ms/step - loss: 0.4116 - acc: 0.9101 - val_loss: 0.6258 - val_acc: 0.8586\n",
            "Epoch 23/50\n",
            "390/390 [==============================] - 12s 32ms/step - loss: 0.4045 - acc: 0.9147 - val_loss: 0.6316 - val_acc: 0.8511\n",
            "Epoch 24/50\n",
            "390/390 [==============================] - 12s 32ms/step - loss: 0.4016 - acc: 0.9142 - val_loss: 0.6320 - val_acc: 0.8555\n",
            "Epoch 25/50\n",
            "390/390 [==============================] - 12s 32ms/step - loss: 0.3941 - acc: 0.9193 - val_loss: 0.6444 - val_acc: 0.8531\n",
            "Epoch 26/50\n",
            "390/390 [==============================] - 12s 32ms/step - loss: 0.3966 - acc: 0.9186 - val_loss: 0.6815 - val_acc: 0.8491\n",
            "Epoch 27/50\n",
            "390/390 [==============================] - 12s 32ms/step - loss: 0.3979 - acc: 0.9197 - val_loss: 0.6932 - val_acc: 0.8458\n",
            "Epoch 28/50\n",
            "390/390 [==============================] - 12s 32ms/step - loss: 0.3899 - acc: 0.9238 - val_loss: 0.7014 - val_acc: 0.8362\n",
            "Epoch 29/50\n",
            "390/390 [==============================] - 12s 32ms/step - loss: 0.3877 - acc: 0.9250 - val_loss: 0.6770 - val_acc: 0.8497\n",
            "Epoch 30/50\n",
            "390/390 [==============================] - 12s 32ms/step - loss: 0.3857 - acc: 0.9274 - val_loss: 0.6916 - val_acc: 0.8458\n",
            "Epoch 31/50\n",
            "390/390 [==============================] - 12s 32ms/step - loss: 0.3846 - acc: 0.9262 - val_loss: 0.6699 - val_acc: 0.8582\n",
            "Epoch 32/50\n",
            "390/390 [==============================] - 12s 32ms/step - loss: 0.3804 - acc: 0.9292 - val_loss: 0.6929 - val_acc: 0.8539\n",
            "Epoch 33/50\n",
            "390/390 [==============================] - 12s 32ms/step - loss: 0.3893 - acc: 0.9265 - val_loss: 0.6705 - val_acc: 0.8585\n",
            "Epoch 34/50\n",
            "390/390 [==============================] - 12s 32ms/step - loss: 0.3872 - acc: 0.9282 - val_loss: 0.6857 - val_acc: 0.8509\n",
            "Epoch 35/50\n",
            "390/390 [==============================] - 12s 32ms/step - loss: 0.3852 - acc: 0.9295 - val_loss: 0.6729 - val_acc: 0.8596\n",
            "Epoch 36/50\n",
            "390/390 [==============================] - 12s 32ms/step - loss: 0.3797 - acc: 0.9315 - val_loss: 0.6969 - val_acc: 0.8505\n",
            "Epoch 37/50\n",
            "390/390 [==============================] - 12s 32ms/step - loss: 0.3812 - acc: 0.9324 - val_loss: 0.7177 - val_acc: 0.8458\n",
            "Epoch 38/50\n",
            "390/390 [==============================] - 12s 32ms/step - loss: 0.3758 - acc: 0.9332 - val_loss: 0.6571 - val_acc: 0.8591\n",
            "Epoch 39/50\n",
            "390/390 [==============================] - 12s 32ms/step - loss: 0.3739 - acc: 0.9346 - val_loss: 0.7650 - val_acc: 0.8427\n",
            "Epoch 40/50\n",
            "390/390 [==============================] - 12s 32ms/step - loss: 0.3707 - acc: 0.9365 - val_loss: 0.6982 - val_acc: 0.8586\n",
            "Epoch 41/50\n",
            "390/390 [==============================] - 12s 32ms/step - loss: 0.3770 - acc: 0.9344 - val_loss: 0.7062 - val_acc: 0.8554\n",
            "Epoch 42/50\n",
            "390/390 [==============================] - 12s 32ms/step - loss: 0.3710 - acc: 0.9372 - val_loss: 0.6841 - val_acc: 0.8582\n",
            "Epoch 43/50\n",
            "390/390 [==============================] - 12s 32ms/step - loss: 0.3750 - acc: 0.9351 - val_loss: 0.7051 - val_acc: 0.8540\n",
            "Epoch 44/50\n",
            "390/390 [==============================] - 12s 32ms/step - loss: 0.3738 - acc: 0.9375 - val_loss: 0.7028 - val_acc: 0.8593\n",
            "Epoch 45/50\n",
            "390/390 [==============================] - 12s 32ms/step - loss: 0.3737 - acc: 0.9377 - val_loss: 0.7086 - val_acc: 0.8555\n",
            "Epoch 46/50\n",
            "390/390 [==============================] - 12s 32ms/step - loss: 0.3715 - acc: 0.9383 - val_loss: 0.6835 - val_acc: 0.8621\n",
            "Epoch 47/50\n",
            "390/390 [==============================] - 12s 32ms/step - loss: 0.3701 - acc: 0.9385 - val_loss: 0.7290 - val_acc: 0.8551\n",
            "Epoch 48/50\n",
            "390/390 [==============================] - 12s 32ms/step - loss: 0.3674 - acc: 0.9406 - val_loss: 0.8142 - val_acc: 0.8461\n",
            "Epoch 49/50\n",
            "390/390 [==============================] - 12s 32ms/step - loss: 0.3699 - acc: 0.9398 - val_loss: 0.7048 - val_acc: 0.8556\n",
            "Epoch 50/50\n",
            "390/390 [==============================] - 12s 32ms/step - loss: 0.3684 - acc: 0.9410 - val_loss: 0.6888 - val_acc: 0.8667\n",
            "Model took 627.85 seconds to train\n"
          ],
          "name": "stdout"
        },
        {
          "output_type": "display_data",
          "data": {
            "image/png": "[encoded data removed]",
            "text/plain": [
              "<Figure size 1080x360 with 2 Axes>"
            ]
          },
          "metadata": {
            "tags": []
          }
        },
        {
          "output_type": "stream",
          "text": [
            "Accuracy on test data is: 86.67\n"
          ],
          "name": "stdout"
        }
      ]
    },
    {
      "cell_type": "markdown",
      "metadata": {
        "id": "y3V-Z_Rx_zdB",
        "colab_type": "text"
      },
      "source": [
        "### Achieved 86.67 % in 50th Epoch."
      ]
    },
    {
      "cell_type": "markdown",
      "metadata": {
        "id": "Bc4-Gi3cIIzv",
        "colab_type": "text"
      },
      "source": [
        "#Cutout Parameters\n",
        "\n",
        "\n",
        "###Parameters are fully configurable as:\n",
        "\n",
        "**get_random_eraser**(p=0.5, s_l=0.02, s_h=0.4, r_1=0.3, r_2=1/0.3,\n",
        "                                   v_l=0, v_h=255, pixel_level=False)\n",
        "\n",
        "p : the probability that random erasing is performed\n",
        "\n",
        "s_l, s_h : minimum / maximum proportion of erased area against input image\n",
        "\n",
        "r_1, r_2 : minimum / maximum aspect ratio of erased area\n",
        "\n",
        "v_l, v_h : minimum / maximum value for erased area\n",
        "\n",
        "pixel_level : pixel-level randomization for erased area"
      ]
    },
    {
      "cell_type": "markdown",
      "metadata": {
        "id": "O9VL-onmI4bN",
        "colab_type": "text"
      },
      "source": [
        "###Creating a new ImageGenerator with \n",
        "1 Cutout Added (v_l=0,v_h=255, s_l=0.02, s_h=0.4)\n",
        "\n",
        "2 feature_wise_centering\n",
        "\n",
        "3 feature_wise_standarization"
      ]
    },
    {
      "cell_type": "markdown",
      "metadata": {
        "id": "Nu1SzvpAQP49",
        "colab_type": "text"
      },
      "source": [
        "##Define the get_random_eraser function as provided by \n",
        "#####https://github.com/yu4u/cutout-random-erasing/blob/master/random_eraser.py"
      ]
    },
    {
      "cell_type": "code",
      "metadata": {
        "id": "Qv9Foji6QDoX",
        "colab_type": "code",
        "colab": {}
      },
      "source": [
        "def get_random_eraser(p=0.5, s_l=0.02, s_h=0.4, r_1=0.3, r_2=1/0.3, v_l=0, v_h=255, pixel_level=False):\n",
        "    def eraser(input_img):\n",
        "        img_h, img_w, img_c = input_img.shape\n",
        "        p_1 = np.random.rand()\n",
        "\n",
        "        if p_1 > p:\n",
        "            return input_img\n",
        "\n",
        "        while True:\n",
        "            s = np.random.uniform(s_l, s_h) * img_h * img_w\n",
        "            r = np.random.uniform(r_1, r_2)\n",
        "            w = int(np.sqrt(s / r))\n",
        "            h = int(np.sqrt(s * r))\n",
        "            left = np.random.randint(0, img_w)\n",
        "            top = np.random.randint(0, img_h)\n",
        "\n",
        "            if left + w <= img_w and top + h <= img_h:\n",
        "                break\n",
        "\n",
        "        if pixel_level:\n",
        "            c = np.random.uniform(v_l, v_h, (h, w, img_c))\n",
        "        else:\n",
        "            c = np.random.uniform(v_l, v_h)\n",
        "\n",
        "        input_img[top:top + h, left:left + w, :] = c\n",
        "\n",
        "        return input_img\n",
        "\n",
        "    return eraser"
      ],
      "execution_count": 0,
      "outputs": []
    },
    {
      "cell_type": "code",
      "metadata": {
        "id": "HPSmJW-PJ5cq",
        "colab_type": "code",
        "colab": {}
      },
      "source": [
        "from keras.datasets import cifar10\n",
        "# load dataset\n",
        "(x_train, y_train), (x_test, y_test) = cifar10.load_data()\n",
        "x_train = x_train.astype('float32')\n",
        "x_test = x_test.astype('float32')\n",
        "x_train  /= 255\n",
        "x_test /= 255\n",
        "\n",
        "\n",
        "# Convert 1-dimensional class arrays to 10-dimensional class matrices\n",
        "Y_train = np_utils.to_categorical(y_train, 10)\n",
        "Y_test = np_utils.to_categorical(y_test, 10)\n",
        "\n",
        "datagen2 = ImageDataGenerator(featurewise_center=True,\n",
        "                            featurewise_std_normalization=True,\n",
        "                            preprocessing_function=get_random_eraser(v_l=0, v_h=255, s_l=0.02, s_h=0.4))\n",
        "\n",
        "\n",
        "datagen2.fit(x_train)\n",
        "\n"
      ],
      "execution_count": 0,
      "outputs": []
    },
    {
      "cell_type": "code",
      "metadata": {
        "id": "xqmJDbJ0tcwT",
        "colab_type": "code",
        "outputId": "4bd537ff-a866-499d-b2f6-03be327e0bc7",
        "colab": {
          "base_uri": "https://localhost:8080/",
          "height": 34
        }
      },
      "source": [
        "##Check few of the images(10) to validate that cutout occurs\n",
        "\n",
        "# demonstrate effect on a single batch of samples\n",
        "iterator = datagen2.flow(x_train, Y_train, batch_size=10)\n",
        "\n",
        "# get a batch\n",
        "x_batch, y_batch = iterator.next()\n",
        "\n",
        "print(x_batch.shape)"
      ],
      "execution_count": 0,
      "outputs": [
        {
          "output_type": "stream",
          "text": [
            "(10, 32, 32, 3)\n"
          ],
          "name": "stdout"
        }
      ]
    },
    {
      "cell_type": "markdown",
      "metadata": {
        "id": "KfDnY01nIIbh",
        "colab_type": "text"
      },
      "source": [
        "####Verify that cutout is occurring"
      ]
    },
    {
      "cell_type": "code",
      "metadata": {
        "id": "bpD6ayh-IM3w",
        "colab_type": "code",
        "outputId": "52388a89-b26d-4b96-f8ee-27313a5995f4",
        "colab": {
          "base_uri": "https://localhost:8080/",
          "height": 408
        }
      },
      "source": [
        "fig = plt.figure(figsize=(8,3))\n",
        "for i in range(x_batch.shape[0]):\n",
        "    ax = fig.add_subplot(2, 5, 1 + i, xticks=[], yticks=[])\n",
        "    plt.imshow(x_batch[i])\n",
        "plt.show()"
      ],
      "execution_count": 0,
      "outputs": [
        {
          "output_type": "stream",
          "text": [
            "WARNING: Logging before flag parsing goes to stderr.\n",
            "W0731 04:33:57.095350 140317346641792 image.py:648] Clipping input data to the valid range for imshow with RGB data ([0..1] for floats or [0..255] for integers).\n",
            "W0731 04:33:57.115621 140317346641792 image.py:648] Clipping input data to the valid range for imshow with RGB data ([0..1] for floats or [0..255] for integers).\n",
            "W0731 04:33:57.135359 140317346641792 image.py:648] Clipping input data to the valid range for imshow with RGB data ([0..1] for floats or [0..255] for integers).\n",
            "W0731 04:33:57.156745 140317346641792 image.py:648] Clipping input data to the valid range for imshow with RGB data ([0..1] for floats or [0..255] for integers).\n",
            "W0731 04:33:57.177510 140317346641792 image.py:648] Clipping input data to the valid range for imshow with RGB data ([0..1] for floats or [0..255] for integers).\n",
            "W0731 04:33:57.318619 140317346641792 image.py:648] Clipping input data to the valid range for imshow with RGB data ([0..1] for floats or [0..255] for integers).\n",
            "W0731 04:33:57.339690 140317346641792 image.py:648] Clipping input data to the valid range for imshow with RGB data ([0..1] for floats or [0..255] for integers).\n",
            "W0731 04:33:57.360342 140317346641792 image.py:648] Clipping input data to the valid range for imshow with RGB data ([0..1] for floats or [0..255] for integers).\n",
            "W0731 04:33:57.381447 140317346641792 image.py:648] Clipping input data to the valid range for imshow with RGB data ([0..1] for floats or [0..255] for integers).\n",
            "W0731 04:33:57.401537 140317346641792 image.py:648] Clipping input data to the valid range for imshow with RGB data ([0..1] for floats or [0..255] for integers).\n"
          ],
          "name": "stderr"
        },
        {
          "output_type": "display_data",
          "data": {
            "image/png": "[encoded data removed]",
            "text/plain": [
              "<Figure size 576x216 with 10 Axes>"
            ]
          },
          "metadata": {
            "tags": []
          }
        }
      ]
    },
    {
      "cell_type": "markdown",
      "metadata": {
        "id": "FP_o19NngMaH",
        "colab_type": "text"
      },
      "source": [
        "###Define LR finder\n"
      ]
    },
    {
      "cell_type": "code",
      "metadata": {
        "id": "n3i08-sairp4",
        "colab_type": "code",
        "colab": {}
      },
      "source": [
        "bs = 64\n",
        "\n",
        "\n",
        "from keras.callbacks import Callback\n",
        "\n",
        "class LR_Finder(Callback):\n",
        "    \n",
        "    def __init__(self, start_lr=1e-5, end_lr=10, step_size=None, beta=.98):\n",
        "        super().__init__()\n",
        "        \n",
        "        self.start_lr = start_lr\n",
        "        self.end_lr = end_lr\n",
        "        self.step_size = step_size\n",
        "        self.beta = beta\n",
        "        self.lr_mult = (end_lr/start_lr)**(1/step_size)\n",
        "        \n",
        "    def on_train_begin(self, logs=None):\n",
        "        self.best_loss = 1e9\n",
        "        self.avg_loss = 0\n",
        "        self.losses, self.smoothed_losses, self.lrs, self.iterations = [], [], [], []\n",
        "        self.iteration = 0\n",
        "        logs = logs or {}\n",
        "        K.set_value(self.model.optimizer.lr, self.start_lr)\n",
        "        \n",
        "    def on_batch_end(self, epoch, logs=None):\n",
        "        logs = logs or {}\n",
        "        loss = logs.get('loss')\n",
        "        self.iteration += 1\n",
        "        \n",
        "        self.avg_loss = self.beta * self.avg_loss + (1 - self.beta) * loss\n",
        "        smoothed_loss = self.avg_loss / (1 - self.beta**self.iteration)\n",
        "        \n",
        "        # Check if the loss is not exploding\n",
        "        if self.iteration>1 and smoothed_loss > self.best_loss * 4:\n",
        "            self.model.stop_training = True\n",
        "            return\n",
        "\n",
        "        if smoothed_loss < self.best_loss or self.iteration==1:\n",
        "            self.best_loss = smoothed_loss\n",
        "        \n",
        "        lr = self.start_lr * (self.lr_mult**self.iteration)\n",
        "        \n",
        "        self.losses.append(loss)\n",
        "        self.smoothed_losses.append(smoothed_loss)\n",
        "        self.lrs.append(lr)\n",
        "        self.iterations.append(self.iteration)\n",
        "        \n",
        "        K.set_value(self.model.optimizer.lr, lr)  \n",
        "        \n",
        "    def plot_lr(self):\n",
        "        plt.xlabel('Iterations')\n",
        "        plt.ylabel('Learning rate')\n",
        "        plt.plot(self.iterations, self.lrs)\n",
        "        \n",
        "    def plot(self, n_skip=10):\n",
        "        plt.ylabel('Loss')\n",
        "        plt.xlabel('Learning rate (log scale)')\n",
        "        plt.plot(self.lrs[n_skip:-5], self.losses[n_skip:-5])\n",
        "        plt.xscale('log')\n",
        "        \n",
        "    def plot_smoothed_loss(self, n_skip=10):\n",
        "        plt.ylabel('Smoothed Losses')\n",
        "        plt.xlabel('Learning rate (log scale)')\n",
        "        plt.plot(self.lrs[n_skip:-5], self.smoothed_losses[n_skip:-5])\n",
        "        plt.xscale('log')\n",
        "        \n",
        "    def plot_loss(self):\n",
        "        plt.ylabel('Losses')\n",
        "        plt.xlabel('Iterations')\n",
        "        plt.plot(self.iterations[10:], self.losses[10:])"
      ],
      "execution_count": 0,
      "outputs": []
    },
    {
      "cell_type": "code",
      "metadata": {
        "id": "pv_Zn2Y6k-uk",
        "colab_type": "code",
        "colab": {}
      },
      "source": [
        "from keras import optimizers\n",
        "\n",
        "sgd = optimizers.SGD(lr=0.01, decay=1e-6, momentum=0.9, nesterov=True)"
      ],
      "execution_count": 0,
      "outputs": []
    },
    {
      "cell_type": "code",
      "metadata": {
        "id": "-iBy2sxUiuPV",
        "colab_type": "code",
        "outputId": "03c96522-1558-4706-8e69-46e76c241e45",
        "colab": {
          "base_uri": "https://localhost:8080/",
          "height": 598
        }
      },
      "source": [
        "#model2\n",
        "model2 = custom_model()\n"
      ],
      "execution_count": 0,
      "outputs": [
        {
          "output_type": "stream",
          "text": [
            "W0731 04:34:11.113463 140317346641792 deprecation_wrapper.py:119] From /usr/local/lib/python3.6/dist-packages/keras/backend/tensorflow_backend.py:74: The name tf.get_default_graph is deprecated. Please use tf.compat.v1.get_default_graph instead.\n",
            "\n",
            "/usr/local/lib/python3.6/dist-packages/ipykernel_launcher.py:4: UserWarning: Update your `Conv2D` call to the Keras 2 API: `Conv2D(32, (3, 3), kernel_regularizer=<keras.reg..., input_shape=(32, 32, 3..., padding=\"same\")`\n",
            "  after removing the cwd from sys.path.\n",
            "W0731 04:34:11.121005 140317346641792 deprecation_wrapper.py:119] From /usr/local/lib/python3.6/dist-packages/keras/backend/tensorflow_backend.py:517: The name tf.placeholder is deprecated. Please use tf.compat.v1.placeholder instead.\n",
            "\n",
            "W0731 04:34:11.128029 140317346641792 deprecation_wrapper.py:119] From /usr/local/lib/python3.6/dist-packages/keras/backend/tensorflow_backend.py:4138: The name tf.random_uniform is deprecated. Please use tf.random.uniform instead.\n",
            "\n",
            "W0731 04:34:11.192764 140317346641792 deprecation_wrapper.py:119] From /usr/local/lib/python3.6/dist-packages/keras/backend/tensorflow_backend.py:174: The name tf.get_default_session is deprecated. Please use tf.compat.v1.get_default_session instead.\n",
            "\n",
            "W0731 04:34:11.194216 140317346641792 deprecation_wrapper.py:119] From /usr/local/lib/python3.6/dist-packages/keras/backend/tensorflow_backend.py:181: The name tf.ConfigProto is deprecated. Please use tf.compat.v1.ConfigProto instead.\n",
            "\n",
            "W0731 04:34:14.112270 140317346641792 deprecation_wrapper.py:119] From /usr/local/lib/python3.6/dist-packages/keras/backend/tensorflow_backend.py:1834: The name tf.nn.fused_batch_norm is deprecated. Please use tf.compat.v1.nn.fused_batch_norm instead.\n",
            "\n",
            "/usr/local/lib/python3.6/dist-packages/ipykernel_launcher.py:8: UserWarning: Update your `Conv2D` call to the Keras 2 API: `Conv2D(64, (3, 3), kernel_regularizer=<keras.reg..., padding=\"same\")`\n",
            "  \n",
            "W0731 04:34:14.301256 140317346641792 deprecation_wrapper.py:119] From /usr/local/lib/python3.6/dist-packages/keras/backend/tensorflow_backend.py:3976: The name tf.nn.max_pool is deprecated. Please use tf.nn.max_pool2d instead.\n",
            "\n",
            "W0731 04:34:14.314756 140317346641792 deprecation.py:506] From /usr/local/lib/python3.6/dist-packages/keras/backend/tensorflow_backend.py:3445: calling dropout (from tensorflow.python.ops.nn_ops) with keep_prob is deprecated and will be removed in a future version.\n",
            "Instructions for updating:\n",
            "Please use `rate` instead of `keep_prob`. Rate should be set to `rate = 1 - keep_prob`.\n",
            "/usr/local/lib/python3.6/dist-packages/ipykernel_launcher.py:15: UserWarning: Update your `Conv2D` call to the Keras 2 API: `Conv2D(32, (1, 1))`\n",
            "  from ipykernel import kernelapp as app\n",
            "/usr/local/lib/python3.6/dist-packages/ipykernel_launcher.py:18: UserWarning: Update your `Conv2D` call to the Keras 2 API: `Conv2D(64, (3, 3), kernel_regularizer=<keras.reg..., padding=\"same\")`\n",
            "/usr/local/lib/python3.6/dist-packages/ipykernel_launcher.py:22: UserWarning: Update your `Conv2D` call to the Keras 2 API: `Conv2D(128, (3, 3), kernel_regularizer=<keras.reg..., padding=\"same\")`\n",
            "/usr/local/lib/python3.6/dist-packages/ipykernel_launcher.py:29: UserWarning: Update your `Conv2D` call to the Keras 2 API: `Conv2D(32, (1, 1))`\n",
            "/usr/local/lib/python3.6/dist-packages/ipykernel_launcher.py:32: UserWarning: Update your `Conv2D` call to the Keras 2 API: `Conv2D(128, (3, 3), kernel_regularizer=<keras.reg..., padding=\"same\")`\n",
            "/usr/local/lib/python3.6/dist-packages/ipykernel_launcher.py:36: UserWarning: Update your `Conv2D` call to the Keras 2 API: `Conv2D(256, (3, 3), kernel_regularizer=<keras.reg..., padding=\"same\")`\n",
            "/usr/local/lib/python3.6/dist-packages/ipykernel_launcher.py:43: UserWarning: Update your `Conv2D` call to the Keras 2 API: `Conv2D(10, (1, 1))`\n",
            "W0731 04:34:14.855859 140317346641792 deprecation_wrapper.py:119] From /usr/local/lib/python3.6/dist-packages/keras/backend/tensorflow_backend.py:3980: The name tf.nn.avg_pool is deprecated. Please use tf.nn.avg_pool2d instead.\n",
            "\n",
            "W0731 04:34:14.868520 140317346641792 deprecation_wrapper.py:119] From /usr/local/lib/python3.6/dist-packages/keras/optimizers.py:790: The name tf.train.Optimizer is deprecated. Please use tf.compat.v1.train.Optimizer instead.\n",
            "\n"
          ],
          "name": "stderr"
        }
      ]
    },
    {
      "cell_type": "code",
      "metadata": {
        "id": "asqp1Po3pC5A",
        "colab_type": "code",
        "colab": {}
      },
      "source": [
        "model2.compile(loss='categorical_crossentropy', optimizer=sgd, metrics=['accuracy'])"
      ],
      "execution_count": 0,
      "outputs": []
    },
    {
      "cell_type": "code",
      "metadata": {
        "id": "diTAnBbLkk2l",
        "colab_type": "code",
        "colab": {}
      },
      "source": [
        "lr_finder = LR_Finder(start_lr=1e-5, end_lr=10, step_size=np.ceil(x_train.shape[0]/bs))"
      ],
      "execution_count": 0,
      "outputs": []
    },
    {
      "cell_type": "markdown",
      "metadata": {
        "id": "ZkJEqkoACdw-",
        "colab_type": "text"
      },
      "source": [
        "##Finding the best learning rate"
      ]
    },
    {
      "cell_type": "code",
      "metadata": {
        "id": "YyfWlII1koXz",
        "colab_type": "code",
        "outputId": "c68712c1-ed9a-4a0a-bb83-2457b4e7ab24",
        "colab": {
          "base_uri": "https://localhost:8080/",
          "height": 190
        }
      },
      "source": [
        "# train the model\n",
        "start = time.time()\n",
        "# Train the model\n",
        "model_info = model2.fit_generator(datagen2.flow(x_train, Y_train, batch_size = 64),\n",
        "                                 samples_per_epoch = x_train.shape[0], nb_epoch = 100, \n",
        "                                 validation_data = (x_test, Y_test), verbose=1, callbacks=[lr_finder])\n",
        "\n",
        "end = time.time()\n",
        "print (\"Model took %0.2f seconds to train\"%(end - start))"
      ],
      "execution_count": 0,
      "outputs": [
        {
          "output_type": "stream",
          "text": [
            "/usr/local/lib/python3.6/dist-packages/ipykernel_launcher.py:5: UserWarning: The semantics of the Keras 2 argument `steps_per_epoch` is not the same as the Keras 1 argument `samples_per_epoch`. `steps_per_epoch` is the number of batches to draw from the generator at each epoch. Basically steps_per_epoch = samples_per_epoch/batch_size. Similarly `nb_val_samples`->`validation_steps` and `val_samples`->`steps` arguments have changed. Update your method calls accordingly.\n",
            "  \"\"\"\n",
            "/usr/local/lib/python3.6/dist-packages/ipykernel_launcher.py:5: UserWarning: Update your `fit_generator` call to the Keras 2 API: `fit_generator(<keras_pre..., validation_data=(array([[[..., verbose=1, callbacks=[<__main__..., steps_per_epoch=781, epochs=100)`\n",
            "  \"\"\"\n",
            "W0731 04:34:23.684351 140317346641792 deprecation.py:323] From /usr/local/lib/python3.6/dist-packages/tensorflow/python/ops/math_grad.py:1250: add_dispatch_support.<locals>.wrapper (from tensorflow.python.ops.array_ops) is deprecated and will be removed in a future version.\n",
            "Instructions for updating:\n",
            "Use tf.where in 2.0, which has the same broadcast rule as np.where\n"
          ],
          "name": "stderr"
        },
        {
          "output_type": "stream",
          "text": [
            "Epoch 1/100\n",
            "702/781 [=========================>....] - ETA: 4s - loss: 2.9381 - acc: 0.1950Model took 42.25 seconds to train\n"
          ],
          "name": "stdout"
        }
      ]
    },
    {
      "cell_type": "code",
      "metadata": {
        "id": "-M6T5NyKC_4o",
        "colab_type": "code",
        "outputId": "88ef4f9e-8b94-46f6-c2bb-3a436770cc53",
        "colab": {
          "base_uri": "https://localhost:8080/",
          "height": 283
        }
      },
      "source": [
        "lr_finder.plot_lr()"
      ],
      "execution_count": 0,
      "outputs": [
        {
          "output_type": "display_data",
          "data": {
            "image/png": "[encoded data removed]",
            "text/plain": [
              "<Figure size 432x288 with 1 Axes>"
            ]
          },
          "metadata": {
            "tags": []
          }
        }
      ]
    },
    {
      "cell_type": "code",
      "metadata": {
        "id": "qhFK9eWcDAiy",
        "colab_type": "code",
        "outputId": "48df810a-3972-455b-abe9-0a3a8fd9ea71",
        "colab": {
          "base_uri": "https://localhost:8080/",
          "height": 287
        }
      },
      "source": [
        "lr_finder.plot()"
      ],
      "execution_count": 0,
      "outputs": [
        {
          "output_type": "display_data",
          "data": {
            "image/png": "[encoded data removed]",
            "text/plain": [
              "<Figure size 432x288 with 1 Axes>"
            ]
          },
          "metadata": {
            "tags": []
          }
        }
      ]
    },
    {
      "cell_type": "code",
      "metadata": {
        "id": "deTSB9_EDGxm",
        "colab_type": "code",
        "outputId": "8eab0233-a7de-45d1-afe9-f132c0664adb",
        "colab": {
          "base_uri": "https://localhost:8080/",
          "height": 287
        }
      },
      "source": [
        "lr_finder.plot_smoothed_loss()"
      ],
      "execution_count": 0,
      "outputs": [
        {
          "output_type": "display_data",
          "data": {
            "image/png": "[encoded data removed]",
            "text/plain": [
              "<Figure size 432x288 with 1 Axes>"
            ]
          },
          "metadata": {
            "tags": []
          }
        }
      ]
    },
    {
      "cell_type": "markdown",
      "metadata": {
        "id": "Fp4eSe58FE_N",
        "colab_type": "text"
      },
      "source": [
        "##The loss decreases fast between 0.001 and 0.01. Hence taking 0.01 as the learning rate and training the model for 100 epochs"
      ]
    },
    {
      "cell_type": "code",
      "metadata": {
        "id": "PkgC1KI5Fric",
        "colab_type": "code",
        "outputId": "37e4a11b-a2fb-4fb2-bd58-51c8996d78f4",
        "colab": {
          "base_uri": "https://localhost:8080/",
          "height": 241
        }
      },
      "source": [
        "from keras import optimizers\n",
        "\n",
        "sgd = optimizers.SGD(lr=0.01, decay=1e-6, momentum=0.9)\n",
        "\n",
        "model3 = custom_model()\n",
        "model3.compile(loss='categorical_crossentropy', optimizer=sgd, metrics=['accuracy'])"
      ],
      "execution_count": 0,
      "outputs": [
        {
          "output_type": "stream",
          "text": [
            "/usr/local/lib/python3.6/dist-packages/ipykernel_launcher.py:4: UserWarning: Update your `Conv2D` call to the Keras 2 API: `Conv2D(32, (3, 3), kernel_regularizer=<keras.reg..., input_shape=(32, 32, 3..., padding=\"same\")`\n",
            "  after removing the cwd from sys.path.\n",
            "/usr/local/lib/python3.6/dist-packages/ipykernel_launcher.py:8: UserWarning: Update your `Conv2D` call to the Keras 2 API: `Conv2D(64, (3, 3), kernel_regularizer=<keras.reg..., padding=\"same\")`\n",
            "  \n",
            "/usr/local/lib/python3.6/dist-packages/ipykernel_launcher.py:15: UserWarning: Update your `Conv2D` call to the Keras 2 API: `Conv2D(32, (1, 1))`\n",
            "  from ipykernel import kernelapp as app\n",
            "/usr/local/lib/python3.6/dist-packages/ipykernel_launcher.py:18: UserWarning: Update your `Conv2D` call to the Keras 2 API: `Conv2D(64, (3, 3), kernel_regularizer=<keras.reg..., padding=\"same\")`\n",
            "/usr/local/lib/python3.6/dist-packages/ipykernel_launcher.py:22: UserWarning: Update your `Conv2D` call to the Keras 2 API: `Conv2D(128, (3, 3), kernel_regularizer=<keras.reg..., padding=\"same\")`\n",
            "/usr/local/lib/python3.6/dist-packages/ipykernel_launcher.py:29: UserWarning: Update your `Conv2D` call to the Keras 2 API: `Conv2D(32, (1, 1))`\n",
            "/usr/local/lib/python3.6/dist-packages/ipykernel_launcher.py:32: UserWarning: Update your `Conv2D` call to the Keras 2 API: `Conv2D(128, (3, 3), kernel_regularizer=<keras.reg..., padding=\"same\")`\n",
            "/usr/local/lib/python3.6/dist-packages/ipykernel_launcher.py:36: UserWarning: Update your `Conv2D` call to the Keras 2 API: `Conv2D(256, (3, 3), kernel_regularizer=<keras.reg..., padding=\"same\")`\n",
            "/usr/local/lib/python3.6/dist-packages/ipykernel_launcher.py:43: UserWarning: Update your `Conv2D` call to the Keras 2 API: `Conv2D(10, (1, 1))`\n"
          ],
          "name": "stderr"
        }
      ]
    },
    {
      "cell_type": "code",
      "metadata": {
        "id": "EKytNWQnGKfO",
        "colab_type": "code",
        "outputId": "9c6ba5e4-c280-478a-e436-ab9b6320b291",
        "colab": {
          "base_uri": "https://localhost:8080/",
          "height": 1000
        }
      },
      "source": [
        "start = time.time()\n",
        "# Train the model\n",
        "model_info = model3.fit_generator(datagen2.flow(x_train, Y_train, batch_size = 64),\n",
        "                                 samples_per_epoch = x_train.shape[0], nb_epoch = 100, \n",
        "                                 validation_data = (x_test, Y_test), verbose=1)\n",
        "\n",
        "end = time.time()\n",
        "print (\"Model took %0.2f seconds to train\"%(end - start))"
      ],
      "execution_count": 0,
      "outputs": [
        {
          "output_type": "stream",
          "text": [
            "/usr/local/lib/python3.6/dist-packages/ipykernel_launcher.py:5: UserWarning: The semantics of the Keras 2 argument `steps_per_epoch` is not the same as the Keras 1 argument `samples_per_epoch`. `steps_per_epoch` is the number of batches to draw from the generator at each epoch. Basically steps_per_epoch = samples_per_epoch/batch_size. Similarly `nb_val_samples`->`validation_steps` and `val_samples`->`steps` arguments have changed. Update your method calls accordingly.\n",
            "  \"\"\"\n",
            "/usr/local/lib/python3.6/dist-packages/ipykernel_launcher.py:5: UserWarning: Update your `fit_generator` call to the Keras 2 API: `fit_generator(<keras_pre..., validation_data=(array([[[..., verbose=1, steps_per_epoch=781, epochs=100)`\n",
            "  \"\"\"\n"
          ],
          "name": "stderr"
        },
        {
          "output_type": "stream",
          "text": [
            "Epoch 1/100\n",
            "781/781 [==============================] - 40s 51ms/step - loss: 1.8351 - acc: 0.3475 - val_loss: 3.2398 - val_acc: 0.1437\n",
            "Epoch 2/100\n",
            "781/781 [==============================] - 35s 45ms/step - loss: 1.5013 - acc: 0.4701 - val_loss: 3.1292 - val_acc: 0.2010\n",
            "Epoch 3/100\n",
            "781/781 [==============================] - 35s 45ms/step - loss: 1.3339 - acc: 0.5391 - val_loss: 3.4858 - val_acc: 0.1855\n",
            "Epoch 4/100\n",
            "781/781 [==============================] - 35s 45ms/step - loss: 1.2129 - acc: 0.5810 - val_loss: 3.1147 - val_acc: 0.2248\n",
            "Epoch 5/100\n",
            "781/781 [==============================] - 35s 45ms/step - loss: 1.1631 - acc: 0.6035 - val_loss: 3.8021 - val_acc: 0.1935\n",
            "Epoch 6/100\n",
            "781/781 [==============================] - 35s 45ms/step - loss: 1.0633 - acc: 0.6413 - val_loss: 2.9913 - val_acc: 0.2639\n",
            "Epoch 7/100\n",
            "781/781 [==============================] - 35s 44ms/step - loss: 0.9853 - acc: 0.6721 - val_loss: 3.8217 - val_acc: 0.1896\n",
            "Epoch 8/100\n",
            "781/781 [==============================] - 35s 45ms/step - loss: 0.9285 - acc: 0.6925 - val_loss: 3.5059 - val_acc: 0.2201\n",
            "Epoch 9/100\n",
            "781/781 [==============================] - 35s 44ms/step - loss: 0.8938 - acc: 0.7096 - val_loss: 3.0223 - val_acc: 0.2336\n",
            "Epoch 10/100\n",
            "781/781 [==============================] - 35s 44ms/step - loss: 0.8646 - acc: 0.7208 - val_loss: 3.2357 - val_acc: 0.2168\n",
            "Epoch 11/100\n",
            "781/781 [==============================] - 35s 45ms/step - loss: 0.8230 - acc: 0.7351 - val_loss: 3.3808 - val_acc: 0.2409\n",
            "Epoch 12/100\n",
            "781/781 [==============================] - 35s 44ms/step - loss: 0.7906 - acc: 0.7484 - val_loss: 2.9973 - val_acc: 0.2725\n",
            "Epoch 13/100\n",
            "781/781 [==============================] - 35s 45ms/step - loss: 0.7714 - acc: 0.7555 - val_loss: 3.5134 - val_acc: 0.2367\n",
            "Epoch 14/100\n",
            "781/781 [==============================] - 35s 44ms/step - loss: 0.7600 - acc: 0.7602 - val_loss: 3.3535 - val_acc: 0.2371\n",
            "Epoch 15/100\n",
            "781/781 [==============================] - 35s 44ms/step - loss: 0.7373 - acc: 0.7683 - val_loss: 2.9303 - val_acc: 0.2975\n",
            "Epoch 16/100\n",
            "781/781 [==============================] - 35s 44ms/step - loss: 0.7224 - acc: 0.7741 - val_loss: 3.4534 - val_acc: 0.2185\n",
            "Epoch 17/100\n",
            "781/781 [==============================] - 36s 46ms/step - loss: 0.7027 - acc: 0.7835 - val_loss: 3.6002 - val_acc: 0.2464\n",
            "Epoch 18/100\n",
            "781/781 [==============================] - 36s 46ms/step - loss: 0.6964 - acc: 0.7864 - val_loss: 2.7926 - val_acc: 0.3432\n",
            "Epoch 19/100\n",
            "781/781 [==============================] - 36s 46ms/step - loss: 0.6767 - acc: 0.7926 - val_loss: 2.8759 - val_acc: 0.3045\n",
            "Epoch 20/100\n",
            "781/781 [==============================] - 36s 46ms/step - loss: 0.6592 - acc: 0.7998 - val_loss: 3.4127 - val_acc: 0.2988\n",
            "Epoch 21/100\n",
            "781/781 [==============================] - 36s 46ms/step - loss: 0.6587 - acc: 0.8006 - val_loss: 4.2175 - val_acc: 0.1664\n",
            "Epoch 22/100\n",
            "781/781 [==============================] - 36s 46ms/step - loss: 0.6619 - acc: 0.8003 - val_loss: 2.6662 - val_acc: 0.3024\n",
            "Epoch 23/100\n",
            "781/781 [==============================] - 36s 46ms/step - loss: 0.6402 - acc: 0.8102 - val_loss: 3.4835 - val_acc: 0.2184\n",
            "Epoch 24/100\n",
            "781/781 [==============================] - 36s 46ms/step - loss: 0.6388 - acc: 0.8114 - val_loss: 3.2903 - val_acc: 0.2701\n",
            "Epoch 25/100\n",
            "781/781 [==============================] - 36s 46ms/step - loss: 0.6339 - acc: 0.8125 - val_loss: 4.2946 - val_acc: 0.1939\n",
            "Epoch 26/100\n",
            "781/781 [==============================] - 36s 46ms/step - loss: 0.6158 - acc: 0.8195 - val_loss: 2.8632 - val_acc: 0.2615\n",
            "Epoch 27/100\n",
            "781/781 [==============================] - 36s 46ms/step - loss: 0.6548 - acc: 0.8075 - val_loss: 2.9844 - val_acc: 0.2717\n",
            "Epoch 28/100\n",
            "781/781 [==============================] - 36s 46ms/step - loss: 0.6107 - acc: 0.8244 - val_loss: 3.1027 - val_acc: 0.3072\n",
            "Epoch 29/100\n",
            "781/781 [==============================] - 36s 46ms/step - loss: 0.6052 - acc: 0.8266 - val_loss: 3.6037 - val_acc: 0.2420\n",
            "Epoch 30/100\n",
            "781/781 [==============================] - 36s 46ms/step - loss: 0.5932 - acc: 0.8317 - val_loss: 3.1002 - val_acc: 0.2559\n",
            "Epoch 31/100\n",
            "781/781 [==============================] - 36s 46ms/step - loss: 0.5916 - acc: 0.8311 - val_loss: 3.0959 - val_acc: 0.2575\n",
            "Epoch 32/100\n",
            "781/781 [==============================] - 36s 46ms/step - loss: 0.5940 - acc: 0.8307 - val_loss: 3.7042 - val_acc: 0.1869\n",
            "Epoch 33/100\n",
            "781/781 [==============================] - 35s 45ms/step - loss: 0.5811 - acc: 0.8361 - val_loss: 4.0199 - val_acc: 0.1680\n",
            "Epoch 34/100\n",
            "781/781 [==============================] - 36s 46ms/step - loss: 0.5758 - acc: 0.8409 - val_loss: 3.6265 - val_acc: 0.2797\n",
            "Epoch 35/100\n",
            "781/781 [==============================] - 36s 46ms/step - loss: 0.5781 - acc: 0.8385 - val_loss: 3.4585 - val_acc: 0.2751\n",
            "Epoch 36/100\n",
            "781/781 [==============================] - 35s 45ms/step - loss: 0.5697 - acc: 0.8418 - val_loss: 3.2404 - val_acc: 0.2707\n",
            "Epoch 37/100\n",
            "781/781 [==============================] - 35s 45ms/step - loss: 0.5617 - acc: 0.8472 - val_loss: 3.5082 - val_acc: 0.2567\n",
            "Epoch 38/100\n",
            "781/781 [==============================] - 35s 45ms/step - loss: 0.5785 - acc: 0.8407 - val_loss: 2.8782 - val_acc: 0.2598\n",
            "Epoch 39/100\n",
            "781/781 [==============================] - 35s 45ms/step - loss: 0.5567 - acc: 0.8475 - val_loss: 3.7656 - val_acc: 0.2696\n",
            "Epoch 40/100\n",
            "781/781 [==============================] - 35s 45ms/step - loss: 0.5554 - acc: 0.8491 - val_loss: 3.7519 - val_acc: 0.2833\n",
            "Epoch 41/100\n",
            "781/781 [==============================] - 35s 45ms/step - loss: 0.5502 - acc: 0.8514 - val_loss: 3.3672 - val_acc: 0.2996\n",
            "Epoch 42/100\n",
            "781/781 [==============================] - 35s 45ms/step - loss: 0.5611 - acc: 0.8488 - val_loss: 3.3524 - val_acc: 0.2992\n",
            "Epoch 43/100\n",
            "781/781 [==============================] - 35s 45ms/step - loss: 0.5480 - acc: 0.8525 - val_loss: 3.1462 - val_acc: 0.2903\n",
            "Epoch 44/100\n",
            "781/781 [==============================] - 35s 45ms/step - loss: 0.5454 - acc: 0.8551 - val_loss: 2.8658 - val_acc: 0.2277\n",
            "Epoch 45/100\n",
            "781/781 [==============================] - 36s 46ms/step - loss: 0.5458 - acc: 0.8533 - val_loss: 3.1662 - val_acc: 0.2668\n",
            "Epoch 46/100\n",
            "781/781 [==============================] - 36s 46ms/step - loss: 0.5434 - acc: 0.8564 - val_loss: 3.5649 - val_acc: 0.2532\n",
            "Epoch 47/100\n",
            "781/781 [==============================] - 35s 45ms/step - loss: 0.5434 - acc: 0.8573 - val_loss: 2.8370 - val_acc: 0.3399\n",
            "Epoch 48/100\n",
            "781/781 [==============================] - 36s 46ms/step - loss: 0.5430 - acc: 0.8579 - val_loss: 4.2044 - val_acc: 0.2383\n",
            "Epoch 49/100\n",
            "781/781 [==============================] - 36s 46ms/step - loss: 0.5464 - acc: 0.8585 - val_loss: 3.2694 - val_acc: 0.2604\n",
            "Epoch 50/100\n",
            "781/781 [==============================] - 36s 46ms/step - loss: 0.5365 - acc: 0.8614 - val_loss: 3.6097 - val_acc: 0.2786\n",
            "Epoch 51/100\n",
            "781/781 [==============================] - 36s 46ms/step - loss: 0.5301 - acc: 0.8641 - val_loss: 2.8317 - val_acc: 0.3364\n",
            "Epoch 52/100\n",
            "781/781 [==============================] - 36s 46ms/step - loss: 0.5299 - acc: 0.8633 - val_loss: 3.5651 - val_acc: 0.2435\n",
            "Epoch 53/100\n",
            "781/781 [==============================] - 36s 46ms/step - loss: 0.5181 - acc: 0.8681 - val_loss: 3.0547 - val_acc: 0.2808\n",
            "Epoch 54/100\n",
            "781/781 [==============================] - 36s 46ms/step - loss: 0.5278 - acc: 0.8658 - val_loss: 3.1987 - val_acc: 0.2872\n",
            "Epoch 55/100\n",
            "781/781 [==============================] - 35s 45ms/step - loss: 0.5300 - acc: 0.8662 - val_loss: 3.5254 - val_acc: 0.2734\n",
            "Epoch 56/100\n",
            "781/781 [==============================] - 36s 46ms/step - loss: 0.5233 - acc: 0.8672 - val_loss: 3.4392 - val_acc: 0.2923\n",
            "Epoch 57/100\n",
            "781/781 [==============================] - 36s 46ms/step - loss: 0.5249 - acc: 0.8672 - val_loss: 3.7999 - val_acc: 0.2379\n",
            "Epoch 58/100\n",
            "781/781 [==============================] - 36s 46ms/step - loss: 0.5197 - acc: 0.8686 - val_loss: 3.3111 - val_acc: 0.2355\n",
            "Epoch 59/100\n",
            "781/781 [==============================] - 35s 45ms/step - loss: 0.5209 - acc: 0.8695 - val_loss: 3.7040 - val_acc: 0.2268\n",
            "Epoch 60/100\n",
            "781/781 [==============================] - 35s 45ms/step - loss: 0.5197 - acc: 0.8698 - val_loss: 3.4247 - val_acc: 0.2294\n",
            "Epoch 61/100\n",
            "781/781 [==============================] - 35s 45ms/step - loss: 0.5128 - acc: 0.8737 - val_loss: 3.3104 - val_acc: 0.2253\n",
            "Epoch 62/100\n",
            "781/781 [==============================] - 35s 45ms/step - loss: 0.5138 - acc: 0.8712 - val_loss: 3.2339 - val_acc: 0.2406\n",
            "Epoch 63/100\n",
            "781/781 [==============================] - 35s 45ms/step - loss: 0.5131 - acc: 0.8717 - val_loss: 4.1607 - val_acc: 0.1947\n",
            "Epoch 64/100\n",
            "781/781 [==============================] - 35s 45ms/step - loss: 0.5734 - acc: 0.8539 - val_loss: 3.4364 - val_acc: 0.2615\n",
            "Epoch 65/100\n",
            "781/781 [==============================] - 36s 46ms/step - loss: 0.5148 - acc: 0.8733 - val_loss: 3.0299 - val_acc: 0.2966\n",
            "Epoch 66/100\n",
            "781/781 [==============================] - 36s 46ms/step - loss: 0.5127 - acc: 0.8739 - val_loss: 3.7606 - val_acc: 0.2837\n",
            "Epoch 67/100\n",
            "781/781 [==============================] - 36s 46ms/step - loss: 0.5031 - acc: 0.8781 - val_loss: 3.7303 - val_acc: 0.2354\n",
            "Epoch 68/100\n",
            "781/781 [==============================] - 35s 45ms/step - loss: 0.5073 - acc: 0.8758 - val_loss: 3.4413 - val_acc: 0.3092\n",
            "Epoch 69/100\n",
            "781/781 [==============================] - 36s 45ms/step - loss: 0.5103 - acc: 0.8750 - val_loss: 2.9266 - val_acc: 0.2952\n",
            "Epoch 70/100\n",
            "781/781 [==============================] - 36s 45ms/step - loss: 0.5096 - acc: 0.8751 - val_loss: 3.7632 - val_acc: 0.2699\n",
            "Epoch 71/100\n",
            "781/781 [==============================] - 35s 45ms/step - loss: 0.4991 - acc: 0.8795 - val_loss: 3.2496 - val_acc: 0.2706\n",
            "Epoch 72/100\n",
            "781/781 [==============================] - 35s 45ms/step - loss: 0.5009 - acc: 0.8791 - val_loss: 3.1499 - val_acc: 0.2693\n",
            "Epoch 73/100\n",
            "781/781 [==============================] - 35s 45ms/step - loss: 0.5096 - acc: 0.8760 - val_loss: 4.1568 - val_acc: 0.2715\n",
            "Epoch 74/100\n",
            "781/781 [==============================] - 35s 45ms/step - loss: 0.5052 - acc: 0.8791 - val_loss: 3.6601 - val_acc: 0.2536\n",
            "Epoch 75/100\n",
            "781/781 [==============================] - 35s 45ms/step - loss: 0.5064 - acc: 0.8774 - val_loss: 3.7937 - val_acc: 0.2416\n",
            "Epoch 76/100\n",
            "781/781 [==============================] - 35s 45ms/step - loss: 0.4955 - acc: 0.8821 - val_loss: 4.5823 - val_acc: 0.2091\n",
            "Epoch 77/100\n",
            "781/781 [==============================] - 35s 45ms/step - loss: 0.5057 - acc: 0.8805 - val_loss: 3.7149 - val_acc: 0.2259\n",
            "Epoch 78/100\n",
            "781/781 [==============================] - 35s 45ms/step - loss: 0.4951 - acc: 0.8823 - val_loss: 3.6794 - val_acc: 0.2381\n",
            "Epoch 79/100\n",
            "781/781 [==============================] - 35s 45ms/step - loss: 0.4976 - acc: 0.8813 - val_loss: 2.7246 - val_acc: 0.2893\n",
            "Epoch 80/100\n",
            "781/781 [==============================] - 35s 45ms/step - loss: 0.5023 - acc: 0.8805 - val_loss: 3.9049 - val_acc: 0.2462\n",
            "Epoch 81/100\n",
            "781/781 [==============================] - 35s 45ms/step - loss: 0.4957 - acc: 0.8837 - val_loss: 3.5901 - val_acc: 0.3019\n",
            "Epoch 82/100\n",
            "781/781 [==============================] - 35s 45ms/step - loss: 0.4916 - acc: 0.8852 - val_loss: 5.5740 - val_acc: 0.1273\n",
            "Epoch 83/100\n",
            "781/781 [==============================] - 35s 45ms/step - loss: 0.4957 - acc: 0.8828 - val_loss: 3.6241 - val_acc: 0.2576\n",
            "Epoch 84/100\n",
            "781/781 [==============================] - 35s 45ms/step - loss: 0.5065 - acc: 0.8798 - val_loss: 2.5024 - val_acc: 0.3351\n",
            "Epoch 85/100\n",
            "781/781 [==============================] - 35s 45ms/step - loss: 0.4980 - acc: 0.8825 - val_loss: 3.4177 - val_acc: 0.3171\n",
            "Epoch 86/100\n",
            "781/781 [==============================] - 35s 45ms/step - loss: 0.4883 - acc: 0.8855 - val_loss: 4.0544 - val_acc: 0.3052\n",
            "Epoch 87/100\n",
            "781/781 [==============================] - 35s 45ms/step - loss: 0.4912 - acc: 0.8848 - val_loss: 3.6706 - val_acc: 0.2016\n",
            "Epoch 88/100\n",
            "781/781 [==============================] - 35s 45ms/step - loss: 0.4932 - acc: 0.8845 - val_loss: 4.1873 - val_acc: 0.1810\n",
            "Epoch 89/100\n",
            "781/781 [==============================] - 35s 45ms/step - loss: 0.4867 - acc: 0.8861 - val_loss: 4.8429 - val_acc: 0.2143\n",
            "Epoch 90/100\n",
            "781/781 [==============================] - 35s 45ms/step - loss: 0.4889 - acc: 0.8865 - val_loss: 3.7428 - val_acc: 0.2689\n",
            "Epoch 91/100\n",
            "781/781 [==============================] - 35s 45ms/step - loss: 0.4834 - acc: 0.8898 - val_loss: 3.3186 - val_acc: 0.2725\n",
            "Epoch 92/100\n",
            "781/781 [==============================] - 35s 45ms/step - loss: 0.4868 - acc: 0.8885 - val_loss: 3.2418 - val_acc: 0.2676\n",
            "Epoch 93/100\n",
            "781/781 [==============================] - 35s 45ms/step - loss: 0.4824 - acc: 0.8889 - val_loss: 3.8296 - val_acc: 0.2499\n",
            "Epoch 94/100\n",
            "781/781 [==============================] - 35s 45ms/step - loss: 0.4870 - acc: 0.8873 - val_loss: 3.1082 - val_acc: 0.3202\n",
            "Epoch 95/100\n",
            "781/781 [==============================] - 35s 45ms/step - loss: 0.4827 - acc: 0.8878 - val_loss: 3.6305 - val_acc: 0.2436\n",
            "Epoch 96/100\n",
            "781/781 [==============================] - 35s 45ms/step - loss: 0.4880 - acc: 0.8873 - val_loss: 3.2081 - val_acc: 0.2714\n",
            "Epoch 97/100\n",
            "781/781 [==============================] - 35s 45ms/step - loss: 0.4771 - acc: 0.8921 - val_loss: 2.7050 - val_acc: 0.3477\n",
            "Epoch 98/100\n",
            "781/781 [==============================] - 35s 45ms/step - loss: 0.4869 - acc: 0.8900 - val_loss: 4.0663 - val_acc: 0.2153\n",
            "Epoch 99/100\n",
            "781/781 [==============================] - 35s 45ms/step - loss: 0.4836 - acc: 0.8894 - val_loss: 3.2911 - val_acc: 0.3175\n",
            "Epoch 100/100\n",
            "781/781 [==============================] - 35s 45ms/step - loss: 0.4772 - acc: 0.8912 - val_loss: 3.5952 - val_acc: 0.2776\n",
            "Model took 3536.86 seconds to train\n"
          ],
          "name": "stdout"
        }
      ]
    },
    {
      "cell_type": "code",
      "metadata": {
        "id": "0vFwgPQ3LtjI",
        "colab_type": "code",
        "colab": {}
      },
      "source": [
        "plot_model_history(model_info)\n",
        "# compute test accuracy\n",
        "print (\"Accuracy on test data is: %0.2f\"%accuracy(X_test, Y_test, model3))"
      ],
      "execution_count": 0,
      "outputs": []
    }
  ]
}